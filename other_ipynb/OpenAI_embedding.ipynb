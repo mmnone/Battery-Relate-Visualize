{
  "cells": [
    {
      "cell_type": "code",
      "execution_count": null,
      "metadata": {
        "colab": {
          "base_uri": "https://localhost:8080/"
        },
        "id": "Xt_TAsLqgwgG",
        "outputId": "6736e017-91a3-46f1-a21c-414fff3d1c5b"
      },
      "outputs": [
        {
          "name": "stdout",
          "output_type": "stream",
          "text": [
            "Requirement already satisfied: openai==0.28 in /usr/local/lib/python3.11/dist-packages (0.28.0)\n",
            "Requirement already satisfied: requests>=2.20 in /usr/local/lib/python3.11/dist-packages (from openai==0.28) (2.32.3)\n",
            "Requirement already satisfied: tqdm in /usr/local/lib/python3.11/dist-packages (from openai==0.28) (4.67.1)\n",
            "Requirement already satisfied: aiohttp in /usr/local/lib/python3.11/dist-packages (from openai==0.28) (3.11.11)\n",
            "Requirement already satisfied: charset-normalizer<4,>=2 in /usr/local/lib/python3.11/dist-packages (from requests>=2.20->openai==0.28) (3.4.1)\n",
            "Requirement already satisfied: idna<4,>=2.5 in /usr/local/lib/python3.11/dist-packages (from requests>=2.20->openai==0.28) (3.10)\n",
            "Requirement already satisfied: urllib3<3,>=1.21.1 in /usr/local/lib/python3.11/dist-packages (from requests>=2.20->openai==0.28) (2.3.0)\n",
            "Requirement already satisfied: certifi>=2017.4.17 in /usr/local/lib/python3.11/dist-packages (from requests>=2.20->openai==0.28) (2024.12.14)\n",
            "Requirement already satisfied: aiohappyeyeballs>=2.3.0 in /usr/local/lib/python3.11/dist-packages (from aiohttp->openai==0.28) (2.4.4)\n",
            "Requirement already satisfied: aiosignal>=1.1.2 in /usr/local/lib/python3.11/dist-packages (from aiohttp->openai==0.28) (1.3.2)\n",
            "Requirement already satisfied: attrs>=17.3.0 in /usr/local/lib/python3.11/dist-packages (from aiohttp->openai==0.28) (25.1.0)\n",
            "Requirement already satisfied: frozenlist>=1.1.1 in /usr/local/lib/python3.11/dist-packages (from aiohttp->openai==0.28) (1.5.0)\n",
            "Requirement already satisfied: multidict<7.0,>=4.5 in /usr/local/lib/python3.11/dist-packages (from aiohttp->openai==0.28) (6.1.0)\n",
            "Requirement already satisfied: propcache>=0.2.0 in /usr/local/lib/python3.11/dist-packages (from aiohttp->openai==0.28) (0.2.1)\n",
            "Requirement already satisfied: yarl<2.0,>=1.17.0 in /usr/local/lib/python3.11/dist-packages (from aiohttp->openai==0.28) (1.18.3)\n"
          ]
        }
      ],
      "source": [
        "!pip install openai==0.28"
      ]
    },
    {
      "cell_type": "code",
      "execution_count": null,
      "metadata": {
        "id": "YCJeI85BTpJE"
      },
      "outputs": [],
      "source": [
        "import openai\n",
        "import numpy as np\n",
        "import pandas as pd\n",
        "openai.api_key = \"Insert OpenAI Key\""
      ]
    },
    {
      "cell_type": "code",
      "execution_count": null,
      "metadata": {
        "id": "7BIc7it9UE76"
      },
      "outputs": [],
      "source": [
        "def get_embedding(text: str, model: str) -> np.array:\n",
        "    text = text.replace(\"\\n\", \" \")\n",
        "    response = openai.Embedding.create(input=[text], model=model)\n",
        "    return np.array(response[\"data\"][0][\"embedding\"])"
      ]
    },
    {
      "cell_type": "code",
      "execution_count": null,
      "metadata": {
        "id": "Swi_EM3NUKty"
      },
      "outputs": [],
      "source": [
        "model = \"text-embedding-ada-002\"\n",
        "\n",
        "df = pd.read_csv('/content/posts from tags.csv')\n",
        "df['embedding'] = df['title'].apply(lambda title: get_embedding(title, model))\n",
        "df\n",
        "\n",
        "def_gse = \"\"\"A Green Software Engineer is a software engineer who designs, develops, and optimizes software with a focus on minimizing environmental impact.\n",
        "This includes reducing energy consumption, improving computational efficiency, and making sustainable choices in software architecture, deployment, and infrastructure.\n",
        "\n",
        "Key principles of Green Software Engineering include:\n",
        "- **Energy Efficiency**: Writing optimized code that consumes less power.\n",
        "- **Carbon Awareness**: Deploying software in regions and times with lower carbon intensity.\n",
        "- **Sustainable Architecture**: Using cloud services efficiently, reducing wasteful computations.\n",
        "- **Hardware Efficiency**: Ensuring software runs well on energy-efficient hardware.\n",
        "\n",
        "It aligns with **Green IT** and **sustainable computing** initiatives to reduce the carbon footprint of the tech industry.\n",
        "\"\"\"\n",
        "\n",
        "embed_greense = get_embedding(def_gse, model)"
      ]
    },
    {
      "cell_type": "code",
      "execution_count": null,
      "metadata": {
        "id": "s6ZANryMUMci"
      },
      "outputs": [],
      "source": [
        "from numpy.linalg import norm\n",
        "\n",
        "def get_cosine_similarity_score(\n",
        "    embedding_1: np.array,\n",
        "    embedding_2: np.array\n",
        ") -> float:\n",
        "    norms_1 = np.linalg.norm(embedding_1, keepdims=True)\n",
        "    norms_2 = np.linalg.norm(embedding_2, keepdims=True)\n",
        "    embedding_1_normalized = embedding_1 / norms_1\n",
        "    embedding_2_normalized = embedding_2 / norms_2\n",
        "    similarity = embedding_1_normalized @ embedding_2_normalized.T\n",
        "    score = similarity.flatten()\n",
        "    return score[0]"
      ]
    },
    {
      "cell_type": "code",
      "execution_count": null,
      "metadata": {
        "id": "T9F8vBAnhxsL"
      },
      "outputs": [],
      "source": [
        "df['score'] = df['embedding'].apply(lambda emb: get_cosine_similarity_score(emb, embed_greense))\n",
        "df\n",
        "df.to_csv('Cosine_Q_t.csv')"
      ]
    }
  ],
  "metadata": {
    "colab": {
      "provenance": []
    },
    "kernelspec": {
      "display_name": "Python 3",
      "name": "python3"
    },
    "language_info": {
      "name": "python"
    }
  },
  "nbformat": 4,
  "nbformat_minor": 0
}
